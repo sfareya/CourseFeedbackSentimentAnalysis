{
 "cells": [
  {
   "cell_type": "code",
   "execution_count": 1,
   "id": "8195ead0",
   "metadata": {},
   "outputs": [],
   "source": [
    "# Imports\n",
    "\n",
    "import pandas as pd\n",
    "import numpy as np\n",
    "import matplotlib.pyplot as plt\n",
    "import seaborn as sns\n",
    "import plotly.offline as py\n",
    "import plotly.graph_objs as go\n",
    "import plotly.tools as tls\n",
    "import plotly.express as px\n",
    "from textblob import TextBlob\n",
    "import nltk\n",
    "from wordcloud import WordCloud, STOPWORDS"
   ]
  },
  {
   "cell_type": "code",
   "execution_count": 18,
   "id": "2a247311",
   "metadata": {},
   "outputs": [
    {
     "data": {
      "text/html": [
       "<div>\n",
       "<style scoped>\n",
       "    .dataframe tbody tr th:only-of-type {\n",
       "        vertical-align: middle;\n",
       "    }\n",
       "\n",
       "    .dataframe tbody tr th {\n",
       "        vertical-align: top;\n",
       "    }\n",
       "\n",
       "    .dataframe thead th {\n",
       "        text-align: right;\n",
       "    }\n",
       "</style>\n",
       "<table border=\"1\" class=\"dataframe\">\n",
       "  <thead>\n",
       "    <tr style=\"text-align: right;\">\n",
       "      <th></th>\n",
       "      <th>Timestamp</th>\n",
       "      <th>Instructor</th>\n",
       "      <th>Class</th>\n",
       "      <th>One</th>\n",
       "      <th>Two</th>\n",
       "      <th>Three</th>\n",
       "      <th>Four</th>\n",
       "      <th>Five</th>\n",
       "      <th>Six</th>\n",
       "      <th>Seven</th>\n",
       "      <th>Eight</th>\n",
       "      <th>Nine</th>\n",
       "      <th>Ten</th>\n",
       "      <th>Eleven</th>\n",
       "    </tr>\n",
       "  </thead>\n",
       "  <tbody>\n",
       "    <tr>\n",
       "      <th>0</th>\n",
       "      <td>Fall 2018</td>\n",
       "      <td>Dorra Louati, Amine B.Hassouna</td>\n",
       "      <td>Sophomore</td>\n",
       "      <td>Around 4 hours/week</td>\n",
       "      <td>About 75%</td>\n",
       "      <td>They were shared but not thoroughly discussed</td>\n",
       "      <td>To some extent\\n</td>\n",
       "      <td>Helpful\\n</td>\n",
       "      <td>Yes, but could be better\\n</td>\n",
       "      <td>Good\\n</td>\n",
       "      <td>All</td>\n",
       "      <td>None</td>\n",
       "      <td>None</td>\n",
       "      <td>Our timing was bad. Always at the end of the e...</td>\n",
       "    </tr>\n",
       "    <tr>\n",
       "      <th>1</th>\n",
       "      <td>Fall 2018</td>\n",
       "      <td>Dorra Louati, Amine B.Hassouna</td>\n",
       "      <td>Sophomore</td>\n",
       "      <td>Around 4 hours/week</td>\n",
       "      <td>About 100%</td>\n",
       "      <td>They were shared and clearly discussed</td>\n",
       "      <td>Yes, definitely\\n</td>\n",
       "      <td>Helpful\\n</td>\n",
       "      <td>Yes, definitely\\n</td>\n",
       "      <td>Good\\n</td>\n",
       "      <td>The project and the course content.</td>\n",
       "      <td>NaN</td>\n",
       "      <td>NaN</td>\n",
       "      <td>More assignments and lecture hours</td>\n",
       "    </tr>\n",
       "    <tr>\n",
       "      <th>2</th>\n",
       "      <td>Fall 2018</td>\n",
       "      <td>Dorra Louati, Amine B.Hassouna</td>\n",
       "      <td>Sophomore</td>\n",
       "      <td>At most 2 hours/week</td>\n",
       "      <td>At most 50%</td>\n",
       "      <td>They were shared and clearly discussed</td>\n",
       "      <td>To some extent\\n</td>\n",
       "      <td>Helpful\\n</td>\n",
       "      <td>Yes, but could be better\\n</td>\n",
       "      <td>Good\\n</td>\n",
       "      <td>.</td>\n",
       "      <td>.</td>\n",
       "      <td>.</td>\n",
       "      <td>.</td>\n",
       "    </tr>\n",
       "    <tr>\n",
       "      <th>3</th>\n",
       "      <td>Fall 2018</td>\n",
       "      <td>Dorra Louati, Amine B.Hassouna</td>\n",
       "      <td>Sophomore</td>\n",
       "      <td>Around 4 hours/week</td>\n",
       "      <td>About 75%</td>\n",
       "      <td>They were shared and clearly discussed</td>\n",
       "      <td>Yes, definitely\\n</td>\n",
       "      <td>Helpful\\n</td>\n",
       "      <td>Yes, but could be better\\n</td>\n",
       "      <td>Good\\n</td>\n",
       "      <td>everything</td>\n",
       "      <td>nothing to add</td>\n",
       "      <td>nothing to add</td>\n",
       "      <td>nothing to add</td>\n",
       "    </tr>\n",
       "    <tr>\n",
       "      <th>4</th>\n",
       "      <td>Fall 2018</td>\n",
       "      <td>Dorra Louati, Amine B.Hassouna</td>\n",
       "      <td>Sophomore</td>\n",
       "      <td>Around 4 hours/week</td>\n",
       "      <td>About 75%</td>\n",
       "      <td>They were shared and clearly discussed</td>\n",
       "      <td>Yes, definitely\\n</td>\n",
       "      <td>Helpful\\n</td>\n",
       "      <td>Yes, but could be better\\n</td>\n",
       "      <td>Good\\n</td>\n",
       "      <td>Doing exercises</td>\n",
       "      <td>.</td>\n",
       "      <td>Having the corrections of the exercises</td>\n",
       "      <td>Nothing</td>\n",
       "    </tr>\n",
       "  </tbody>\n",
       "</table>\n",
       "</div>"
      ],
      "text/plain": [
       "   Timestamp                          Instructor      Class  \\\n",
       "0  Fall 2018  Dorra Louati, Amine B.Hassouna      Sophomore   \n",
       "1  Fall 2018  Dorra Louati, Amine B.Hassouna      Sophomore   \n",
       "2  Fall 2018  Dorra Louati, Amine B.Hassouna      Sophomore   \n",
       "3  Fall 2018  Dorra Louati, Amine B.Hassouna      Sophomore   \n",
       "4  Fall 2018  Dorra Louati, Amine B.Hassouna      Sophomore   \n",
       "\n",
       "                    One          Two  \\\n",
       "0   Around 4 hours/week    About 75%   \n",
       "1   Around 4 hours/week   About 100%   \n",
       "2  At most 2 hours/week  At most 50%   \n",
       "3   Around 4 hours/week    About 75%   \n",
       "4   Around 4 hours/week    About 75%   \n",
       "\n",
       "                                           Three               Four  \\\n",
       "0  They were shared but not thoroughly discussed   To some extent\\n   \n",
       "1         They were shared and clearly discussed  Yes, definitely\\n   \n",
       "2         They were shared and clearly discussed   To some extent\\n   \n",
       "3         They were shared and clearly discussed  Yes, definitely\\n   \n",
       "4         They were shared and clearly discussed  Yes, definitely\\n   \n",
       "\n",
       "        Five                         Six   Seven  \\\n",
       "0  Helpful\\n  Yes, but could be better\\n  Good\\n   \n",
       "1  Helpful\\n           Yes, definitely\\n  Good\\n   \n",
       "2  Helpful\\n  Yes, but could be better\\n  Good\\n   \n",
       "3  Helpful\\n  Yes, but could be better\\n  Good\\n   \n",
       "4  Helpful\\n  Yes, but could be better\\n  Good\\n   \n",
       "\n",
       "                                 Eight             Nine  \\\n",
       "0                                  All             None   \n",
       "1  The project and the course content.              NaN   \n",
       "2                                    .                .   \n",
       "3                          everything   nothing to add    \n",
       "4                     Doing exercises                 .   \n",
       "\n",
       "                                        Ten  \\\n",
       "0                                      None   \n",
       "1                                       NaN   \n",
       "2                                         .   \n",
       "3                           nothing to add    \n",
       "4  Having the corrections of the exercises    \n",
       "\n",
       "                                              Eleven  \n",
       "0  Our timing was bad. Always at the end of the e...  \n",
       "1                 More assignments and lecture hours  \n",
       "2                                                  .  \n",
       "3                                    nothing to add   \n",
       "4                                           Nothing   "
      ]
     },
     "execution_count": 18,
     "metadata": {},
     "output_type": "execute_result"
    }
   ],
   "source": [
    "# Reading the file after manual cleaning\n",
    "\n",
    "df = pd.read_excel(r'CS102.xlsx')\n",
    "df.head()"
   ]
  },
  {
   "cell_type": "code",
   "execution_count": 3,
   "id": "440737e6",
   "metadata": {},
   "outputs": [
    {
     "data": {
      "text/html": [
       "        <script type=\"text/javascript\">\n",
       "        window.PlotlyConfig = {MathJaxConfig: 'local'};\n",
       "        if (window.MathJax && window.MathJax.Hub && window.MathJax.Hub.Config) {window.MathJax.Hub.Config({SVG: {font: \"STIX-Web\"}});}\n",
       "        if (typeof require !== 'undefined') {\n",
       "        require.undef(\"plotly\");\n",
       "        requirejs.config({\n",
       "            paths: {\n",
       "                'plotly': ['https://cdn.plot.ly/plotly-2.20.0.min']\n",
       "            }\n",
       "        });\n",
       "        require(['plotly'], function(Plotly) {\n",
       "            window._Plotly = Plotly;\n",
       "        });\n",
       "        }\n",
       "        </script>\n",
       "        "
      ]
     },
     "metadata": {},
     "output_type": "display_data"
    },
    {
     "data": {
      "application/vnd.plotly.v1+json": {
       "config": {
        "plotlyServerURL": "https://plot.ly"
       },
       "data": [
        {
         "alignmentgroup": "True",
         "bingroup": "x",
         "hovertemplate": "Two=%{x}<br>count=%{y}<extra></extra>",
         "legendgroup": "",
         "marker": {
          "color": "turquoise",
          "line": {
           "color": "rgb(8,48,107)",
           "width": 1.5
          },
          "pattern": {
           "shape": ""
          }
         },
         "name": "",
         "offsetgroup": "",
         "orientation": "v",
         "showlegend": false,
         "type": "histogram",
         "x": [
          "About 75%",
          "About 100%",
          "At most 50%",
          "About 75%",
          "About 75%",
          "About 100%",
          "About 75%",
          "About 75%",
          "About 75%",
          "About 100%",
          "About 100%",
          "About 100%",
          "About 75%",
          "About 100%",
          "About 75%",
          "About 75%",
          "About 100%",
          "About 100%",
          "About 100%",
          "About 100%",
          "About 100%",
          "At most 50%",
          "About 75%",
          "About 75%",
          "At most 50%",
          "About 75%",
          "About 100%",
          "About 75%",
          "At most 50%",
          "About 75%",
          "About 100%",
          "About 75%",
          "About 100%",
          "About 75%",
          "About 75%",
          "About 75%",
          "At most 50%",
          "About 75%",
          "About 75%",
          "About 100%",
          "About 75%",
          "About 75%",
          "About 75%",
          "About 100%",
          "About 75%",
          "About 75%",
          "About 75%",
          "About 100%",
          "About 100%",
          "At most 50%",
          "About 100%",
          "About 100%",
          "About 75%",
          "At most 50%",
          "About 100%",
          "About 75%",
          "At most 50%",
          "About 75%",
          "About 75%",
          "About 75%",
          "About 100%",
          "About 75%",
          "About 75%",
          "About 100%",
          "About 100%",
          "About 100%",
          "About 75%",
          "About 75%",
          "About 100%",
          "About 100%",
          "About 100%",
          "At most 50%",
          "About 75%",
          "About 100%",
          "At most 50%",
          "About 75%",
          "About 75%",
          "About 75%",
          "About 75%",
          "About 75%",
          "At most 50%",
          "About 75%",
          "About 75%",
          "About 75%",
          "About 75%",
          "At most 50%",
          "About 100%",
          "About 75%",
          "About 100%",
          "About 75%",
          "About 100%",
          "About 100%",
          "About 75%",
          "About 100%",
          "About 75%",
          "About 75%",
          "About 75%",
          "About 100%"
         ],
         "xaxis": "x",
         "yaxis": "y"
        }
       ],
       "layout": {
        "barmode": "relative",
        "legend": {
         "tracegroupgap": 0
        },
        "margin": {
         "t": 60
        },
        "template": {
         "data": {
          "bar": [
           {
            "error_x": {
             "color": "#2a3f5f"
            },
            "error_y": {
             "color": "#2a3f5f"
            },
            "marker": {
             "line": {
              "color": "#E5ECF6",
              "width": 0.5
             },
             "pattern": {
              "fillmode": "overlay",
              "size": 10,
              "solidity": 0.2
             }
            },
            "type": "bar"
           }
          ],
          "barpolar": [
           {
            "marker": {
             "line": {
              "color": "#E5ECF6",
              "width": 0.5
             },
             "pattern": {
              "fillmode": "overlay",
              "size": 10,
              "solidity": 0.2
             }
            },
            "type": "barpolar"
           }
          ],
          "carpet": [
           {
            "aaxis": {
             "endlinecolor": "#2a3f5f",
             "gridcolor": "white",
             "linecolor": "white",
             "minorgridcolor": "white",
             "startlinecolor": "#2a3f5f"
            },
            "baxis": {
             "endlinecolor": "#2a3f5f",
             "gridcolor": "white",
             "linecolor": "white",
             "minorgridcolor": "white",
             "startlinecolor": "#2a3f5f"
            },
            "type": "carpet"
           }
          ],
          "choropleth": [
           {
            "colorbar": {
             "outlinewidth": 0,
             "ticks": ""
            },
            "type": "choropleth"
           }
          ],
          "contour": [
           {
            "colorbar": {
             "outlinewidth": 0,
             "ticks": ""
            },
            "colorscale": [
             [
              0,
              "#0d0887"
             ],
             [
              0.1111111111111111,
              "#46039f"
             ],
             [
              0.2222222222222222,
              "#7201a8"
             ],
             [
              0.3333333333333333,
              "#9c179e"
             ],
             [
              0.4444444444444444,
              "#bd3786"
             ],
             [
              0.5555555555555556,
              "#d8576b"
             ],
             [
              0.6666666666666666,
              "#ed7953"
             ],
             [
              0.7777777777777778,
              "#fb9f3a"
             ],
             [
              0.8888888888888888,
              "#fdca26"
             ],
             [
              1,
              "#f0f921"
             ]
            ],
            "type": "contour"
           }
          ],
          "contourcarpet": [
           {
            "colorbar": {
             "outlinewidth": 0,
             "ticks": ""
            },
            "type": "contourcarpet"
           }
          ],
          "heatmap": [
           {
            "colorbar": {
             "outlinewidth": 0,
             "ticks": ""
            },
            "colorscale": [
             [
              0,
              "#0d0887"
             ],
             [
              0.1111111111111111,
              "#46039f"
             ],
             [
              0.2222222222222222,
              "#7201a8"
             ],
             [
              0.3333333333333333,
              "#9c179e"
             ],
             [
              0.4444444444444444,
              "#bd3786"
             ],
             [
              0.5555555555555556,
              "#d8576b"
             ],
             [
              0.6666666666666666,
              "#ed7953"
             ],
             [
              0.7777777777777778,
              "#fb9f3a"
             ],
             [
              0.8888888888888888,
              "#fdca26"
             ],
             [
              1,
              "#f0f921"
             ]
            ],
            "type": "heatmap"
           }
          ],
          "heatmapgl": [
           {
            "colorbar": {
             "outlinewidth": 0,
             "ticks": ""
            },
            "colorscale": [
             [
              0,
              "#0d0887"
             ],
             [
              0.1111111111111111,
              "#46039f"
             ],
             [
              0.2222222222222222,
              "#7201a8"
             ],
             [
              0.3333333333333333,
              "#9c179e"
             ],
             [
              0.4444444444444444,
              "#bd3786"
             ],
             [
              0.5555555555555556,
              "#d8576b"
             ],
             [
              0.6666666666666666,
              "#ed7953"
             ],
             [
              0.7777777777777778,
              "#fb9f3a"
             ],
             [
              0.8888888888888888,
              "#fdca26"
             ],
             [
              1,
              "#f0f921"
             ]
            ],
            "type": "heatmapgl"
           }
          ],
          "histogram": [
           {
            "marker": {
             "pattern": {
              "fillmode": "overlay",
              "size": 10,
              "solidity": 0.2
             }
            },
            "type": "histogram"
           }
          ],
          "histogram2d": [
           {
            "colorbar": {
             "outlinewidth": 0,
             "ticks": ""
            },
            "colorscale": [
             [
              0,
              "#0d0887"
             ],
             [
              0.1111111111111111,
              "#46039f"
             ],
             [
              0.2222222222222222,
              "#7201a8"
             ],
             [
              0.3333333333333333,
              "#9c179e"
             ],
             [
              0.4444444444444444,
              "#bd3786"
             ],
             [
              0.5555555555555556,
              "#d8576b"
             ],
             [
              0.6666666666666666,
              "#ed7953"
             ],
             [
              0.7777777777777778,
              "#fb9f3a"
             ],
             [
              0.8888888888888888,
              "#fdca26"
             ],
             [
              1,
              "#f0f921"
             ]
            ],
            "type": "histogram2d"
           }
          ],
          "histogram2dcontour": [
           {
            "colorbar": {
             "outlinewidth": 0,
             "ticks": ""
            },
            "colorscale": [
             [
              0,
              "#0d0887"
             ],
             [
              0.1111111111111111,
              "#46039f"
             ],
             [
              0.2222222222222222,
              "#7201a8"
             ],
             [
              0.3333333333333333,
              "#9c179e"
             ],
             [
              0.4444444444444444,
              "#bd3786"
             ],
             [
              0.5555555555555556,
              "#d8576b"
             ],
             [
              0.6666666666666666,
              "#ed7953"
             ],
             [
              0.7777777777777778,
              "#fb9f3a"
             ],
             [
              0.8888888888888888,
              "#fdca26"
             ],
             [
              1,
              "#f0f921"
             ]
            ],
            "type": "histogram2dcontour"
           }
          ],
          "mesh3d": [
           {
            "colorbar": {
             "outlinewidth": 0,
             "ticks": ""
            },
            "type": "mesh3d"
           }
          ],
          "parcoords": [
           {
            "line": {
             "colorbar": {
              "outlinewidth": 0,
              "ticks": ""
             }
            },
            "type": "parcoords"
           }
          ],
          "pie": [
           {
            "automargin": true,
            "type": "pie"
           }
          ],
          "scatter": [
           {
            "fillpattern": {
             "fillmode": "overlay",
             "size": 10,
             "solidity": 0.2
            },
            "type": "scatter"
           }
          ],
          "scatter3d": [
           {
            "line": {
             "colorbar": {
              "outlinewidth": 0,
              "ticks": ""
             }
            },
            "marker": {
             "colorbar": {
              "outlinewidth": 0,
              "ticks": ""
             }
            },
            "type": "scatter3d"
           }
          ],
          "scattercarpet": [
           {
            "marker": {
             "colorbar": {
              "outlinewidth": 0,
              "ticks": ""
             }
            },
            "type": "scattercarpet"
           }
          ],
          "scattergeo": [
           {
            "marker": {
             "colorbar": {
              "outlinewidth": 0,
              "ticks": ""
             }
            },
            "type": "scattergeo"
           }
          ],
          "scattergl": [
           {
            "marker": {
             "colorbar": {
              "outlinewidth": 0,
              "ticks": ""
             }
            },
            "type": "scattergl"
           }
          ],
          "scattermapbox": [
           {
            "marker": {
             "colorbar": {
              "outlinewidth": 0,
              "ticks": ""
             }
            },
            "type": "scattermapbox"
           }
          ],
          "scatterpolar": [
           {
            "marker": {
             "colorbar": {
              "outlinewidth": 0,
              "ticks": ""
             }
            },
            "type": "scatterpolar"
           }
          ],
          "scatterpolargl": [
           {
            "marker": {
             "colorbar": {
              "outlinewidth": 0,
              "ticks": ""
             }
            },
            "type": "scatterpolargl"
           }
          ],
          "scatterternary": [
           {
            "marker": {
             "colorbar": {
              "outlinewidth": 0,
              "ticks": ""
             }
            },
            "type": "scatterternary"
           }
          ],
          "surface": [
           {
            "colorbar": {
             "outlinewidth": 0,
             "ticks": ""
            },
            "colorscale": [
             [
              0,
              "#0d0887"
             ],
             [
              0.1111111111111111,
              "#46039f"
             ],
             [
              0.2222222222222222,
              "#7201a8"
             ],
             [
              0.3333333333333333,
              "#9c179e"
             ],
             [
              0.4444444444444444,
              "#bd3786"
             ],
             [
              0.5555555555555556,
              "#d8576b"
             ],
             [
              0.6666666666666666,
              "#ed7953"
             ],
             [
              0.7777777777777778,
              "#fb9f3a"
             ],
             [
              0.8888888888888888,
              "#fdca26"
             ],
             [
              1,
              "#f0f921"
             ]
            ],
            "type": "surface"
           }
          ],
          "table": [
           {
            "cells": {
             "fill": {
              "color": "#EBF0F8"
             },
             "line": {
              "color": "white"
             }
            },
            "header": {
             "fill": {
              "color": "#C8D4E3"
             },
             "line": {
              "color": "white"
             }
            },
            "type": "table"
           }
          ]
         },
         "layout": {
          "annotationdefaults": {
           "arrowcolor": "#2a3f5f",
           "arrowhead": 0,
           "arrowwidth": 1
          },
          "autotypenumbers": "strict",
          "coloraxis": {
           "colorbar": {
            "outlinewidth": 0,
            "ticks": ""
           }
          },
          "colorscale": {
           "diverging": [
            [
             0,
             "#8e0152"
            ],
            [
             0.1,
             "#c51b7d"
            ],
            [
             0.2,
             "#de77ae"
            ],
            [
             0.3,
             "#f1b6da"
            ],
            [
             0.4,
             "#fde0ef"
            ],
            [
             0.5,
             "#f7f7f7"
            ],
            [
             0.6,
             "#e6f5d0"
            ],
            [
             0.7,
             "#b8e186"
            ],
            [
             0.8,
             "#7fbc41"
            ],
            [
             0.9,
             "#4d9221"
            ],
            [
             1,
             "#276419"
            ]
           ],
           "sequential": [
            [
             0,
             "#0d0887"
            ],
            [
             0.1111111111111111,
             "#46039f"
            ],
            [
             0.2222222222222222,
             "#7201a8"
            ],
            [
             0.3333333333333333,
             "#9c179e"
            ],
            [
             0.4444444444444444,
             "#bd3786"
            ],
            [
             0.5555555555555556,
             "#d8576b"
            ],
            [
             0.6666666666666666,
             "#ed7953"
            ],
            [
             0.7777777777777778,
             "#fb9f3a"
            ],
            [
             0.8888888888888888,
             "#fdca26"
            ],
            [
             1,
             "#f0f921"
            ]
           ],
           "sequentialminus": [
            [
             0,
             "#0d0887"
            ],
            [
             0.1111111111111111,
             "#46039f"
            ],
            [
             0.2222222222222222,
             "#7201a8"
            ],
            [
             0.3333333333333333,
             "#9c179e"
            ],
            [
             0.4444444444444444,
             "#bd3786"
            ],
            [
             0.5555555555555556,
             "#d8576b"
            ],
            [
             0.6666666666666666,
             "#ed7953"
            ],
            [
             0.7777777777777778,
             "#fb9f3a"
            ],
            [
             0.8888888888888888,
             "#fdca26"
            ],
            [
             1,
             "#f0f921"
            ]
           ]
          },
          "colorway": [
           "#636efa",
           "#EF553B",
           "#00cc96",
           "#ab63fa",
           "#FFA15A",
           "#19d3f3",
           "#FF6692",
           "#B6E880",
           "#FF97FF",
           "#FECB52"
          ],
          "font": {
           "color": "#2a3f5f"
          },
          "geo": {
           "bgcolor": "white",
           "lakecolor": "white",
           "landcolor": "#E5ECF6",
           "showlakes": true,
           "showland": true,
           "subunitcolor": "white"
          },
          "hoverlabel": {
           "align": "left"
          },
          "hovermode": "closest",
          "mapbox": {
           "style": "light"
          },
          "paper_bgcolor": "white",
          "plot_bgcolor": "#E5ECF6",
          "polar": {
           "angularaxis": {
            "gridcolor": "white",
            "linecolor": "white",
            "ticks": ""
           },
           "bgcolor": "#E5ECF6",
           "radialaxis": {
            "gridcolor": "white",
            "linecolor": "white",
            "ticks": ""
           }
          },
          "scene": {
           "xaxis": {
            "backgroundcolor": "#E5ECF6",
            "gridcolor": "white",
            "gridwidth": 2,
            "linecolor": "white",
            "showbackground": true,
            "ticks": "",
            "zerolinecolor": "white"
           },
           "yaxis": {
            "backgroundcolor": "#E5ECF6",
            "gridcolor": "white",
            "gridwidth": 2,
            "linecolor": "white",
            "showbackground": true,
            "ticks": "",
            "zerolinecolor": "white"
           },
           "zaxis": {
            "backgroundcolor": "#E5ECF6",
            "gridcolor": "white",
            "gridwidth": 2,
            "linecolor": "white",
            "showbackground": true,
            "ticks": "",
            "zerolinecolor": "white"
           }
          },
          "shapedefaults": {
           "line": {
            "color": "#2a3f5f"
           }
          },
          "ternary": {
           "aaxis": {
            "gridcolor": "white",
            "linecolor": "white",
            "ticks": ""
           },
           "baxis": {
            "gridcolor": "white",
            "linecolor": "white",
            "ticks": ""
           },
           "bgcolor": "#E5ECF6",
           "caxis": {
            "gridcolor": "white",
            "linecolor": "white",
            "ticks": ""
           }
          },
          "title": {
           "x": 0.05
          },
          "xaxis": {
           "automargin": true,
           "gridcolor": "white",
           "linecolor": "white",
           "ticks": "",
           "title": {
            "standoff": 15
           },
           "zerolinecolor": "white",
           "zerolinewidth": 2
          },
          "yaxis": {
           "automargin": true,
           "gridcolor": "white",
           "linecolor": "white",
           "ticks": "",
           "title": {
            "standoff": 15
           },
           "zerolinecolor": "white",
           "zerolinewidth": 2
          }
         }
        },
        "title": {
         "text": "Q2 Results"
        },
        "xaxis": {
         "anchor": "y",
         "domain": [
          0,
          1
         ],
         "title": {
          "text": "Two"
         }
        },
        "yaxis": {
         "anchor": "x",
         "domain": [
          0,
          1
         ],
         "title": {
          "text": "count"
         }
        }
       }
      },
      "text/html": [
       "<div>                            <div id=\"2a656589-6a17-439c-afa5-59b8ff3fe8cf\" class=\"plotly-graph-div\" style=\"height:525px; width:100%;\"></div>            <script type=\"text/javascript\">                require([\"plotly\"], function(Plotly) {                    window.PLOTLYENV=window.PLOTLYENV || {};                                    if (document.getElementById(\"2a656589-6a17-439c-afa5-59b8ff3fe8cf\")) {                    Plotly.newPlot(                        \"2a656589-6a17-439c-afa5-59b8ff3fe8cf\",                        [{\"alignmentgroup\":\"True\",\"bingroup\":\"x\",\"hovertemplate\":\"Two=%{x}<br>count=%{y}<extra></extra>\",\"legendgroup\":\"\",\"marker\":{\"color\":\"turquoise\",\"pattern\":{\"shape\":\"\"},\"line\":{\"color\":\"rgb(8,48,107)\",\"width\":1.5}},\"name\":\"\",\"offsetgroup\":\"\",\"orientation\":\"v\",\"showlegend\":false,\"x\":[\"About 75%\",\"About 100%\",\"At most 50%\",\"About 75%\",\"About 75%\",\"About 100%\",\"About 75%\",\"About 75%\",\"About 75%\",\"About 100%\",\"About 100%\",\"About 100%\",\"About 75%\",\"About 100%\",\"About 75%\",\"About 75%\",\"About 100%\",\"About 100%\",\"About 100%\",\"About 100%\",\"About 100%\",\"At most 50%\",\"About 75%\",\"About 75%\",\"At most 50%\",\"About 75%\",\"About 100%\",\"About 75%\",\"At most 50%\",\"About 75%\",\"About 100%\",\"About 75%\",\"About 100%\",\"About 75%\",\"About 75%\",\"About 75%\",\"At most 50%\",\"About 75%\",\"About 75%\",\"About 100%\",\"About 75%\",\"About 75%\",\"About 75%\",\"About 100%\",\"About 75%\",\"About 75%\",\"About 75%\",\"About 100%\",\"About 100%\",\"At most 50%\",\"About 100%\",\"About 100%\",\"About 75%\",\"At most 50%\",\"About 100%\",\"About 75%\",\"At most 50%\",\"About 75%\",\"About 75%\",\"About 75%\",\"About 100%\",\"About 75%\",\"About 75%\",\"About 100%\",\"About 100%\",\"About 100%\",\"About 75%\",\"About 75%\",\"About 100%\",\"About 100%\",\"About 100%\",\"At most 50%\",\"About 75%\",\"About 100%\",\"At most 50%\",\"About 75%\",\"About 75%\",\"About 75%\",\"About 75%\",\"About 75%\",\"At most 50%\",\"About 75%\",\"About 75%\",\"About 75%\",\"About 75%\",\"At most 50%\",\"About 100%\",\"About 75%\",\"About 100%\",\"About 75%\",\"About 100%\",\"About 100%\",\"About 75%\",\"About 100%\",\"About 75%\",\"About 75%\",\"About 75%\",\"About 100%\"],\"xaxis\":\"x\",\"yaxis\":\"y\",\"type\":\"histogram\"}],                        {\"template\":{\"data\":{\"histogram2dcontour\":[{\"type\":\"histogram2dcontour\",\"colorbar\":{\"outlinewidth\":0,\"ticks\":\"\"},\"colorscale\":[[0.0,\"#0d0887\"],[0.1111111111111111,\"#46039f\"],[0.2222222222222222,\"#7201a8\"],[0.3333333333333333,\"#9c179e\"],[0.4444444444444444,\"#bd3786\"],[0.5555555555555556,\"#d8576b\"],[0.6666666666666666,\"#ed7953\"],[0.7777777777777778,\"#fb9f3a\"],[0.8888888888888888,\"#fdca26\"],[1.0,\"#f0f921\"]]}],\"choropleth\":[{\"type\":\"choropleth\",\"colorbar\":{\"outlinewidth\":0,\"ticks\":\"\"}}],\"histogram2d\":[{\"type\":\"histogram2d\",\"colorbar\":{\"outlinewidth\":0,\"ticks\":\"\"},\"colorscale\":[[0.0,\"#0d0887\"],[0.1111111111111111,\"#46039f\"],[0.2222222222222222,\"#7201a8\"],[0.3333333333333333,\"#9c179e\"],[0.4444444444444444,\"#bd3786\"],[0.5555555555555556,\"#d8576b\"],[0.6666666666666666,\"#ed7953\"],[0.7777777777777778,\"#fb9f3a\"],[0.8888888888888888,\"#fdca26\"],[1.0,\"#f0f921\"]]}],\"heatmap\":[{\"type\":\"heatmap\",\"colorbar\":{\"outlinewidth\":0,\"ticks\":\"\"},\"colorscale\":[[0.0,\"#0d0887\"],[0.1111111111111111,\"#46039f\"],[0.2222222222222222,\"#7201a8\"],[0.3333333333333333,\"#9c179e\"],[0.4444444444444444,\"#bd3786\"],[0.5555555555555556,\"#d8576b\"],[0.6666666666666666,\"#ed7953\"],[0.7777777777777778,\"#fb9f3a\"],[0.8888888888888888,\"#fdca26\"],[1.0,\"#f0f921\"]]}],\"heatmapgl\":[{\"type\":\"heatmapgl\",\"colorbar\":{\"outlinewidth\":0,\"ticks\":\"\"},\"colorscale\":[[0.0,\"#0d0887\"],[0.1111111111111111,\"#46039f\"],[0.2222222222222222,\"#7201a8\"],[0.3333333333333333,\"#9c179e\"],[0.4444444444444444,\"#bd3786\"],[0.5555555555555556,\"#d8576b\"],[0.6666666666666666,\"#ed7953\"],[0.7777777777777778,\"#fb9f3a\"],[0.8888888888888888,\"#fdca26\"],[1.0,\"#f0f921\"]]}],\"contourcarpet\":[{\"type\":\"contourcarpet\",\"colorbar\":{\"outlinewidth\":0,\"ticks\":\"\"}}],\"contour\":[{\"type\":\"contour\",\"colorbar\":{\"outlinewidth\":0,\"ticks\":\"\"},\"colorscale\":[[0.0,\"#0d0887\"],[0.1111111111111111,\"#46039f\"],[0.2222222222222222,\"#7201a8\"],[0.3333333333333333,\"#9c179e\"],[0.4444444444444444,\"#bd3786\"],[0.5555555555555556,\"#d8576b\"],[0.6666666666666666,\"#ed7953\"],[0.7777777777777778,\"#fb9f3a\"],[0.8888888888888888,\"#fdca26\"],[1.0,\"#f0f921\"]]}],\"surface\":[{\"type\":\"surface\",\"colorbar\":{\"outlinewidth\":0,\"ticks\":\"\"},\"colorscale\":[[0.0,\"#0d0887\"],[0.1111111111111111,\"#46039f\"],[0.2222222222222222,\"#7201a8\"],[0.3333333333333333,\"#9c179e\"],[0.4444444444444444,\"#bd3786\"],[0.5555555555555556,\"#d8576b\"],[0.6666666666666666,\"#ed7953\"],[0.7777777777777778,\"#fb9f3a\"],[0.8888888888888888,\"#fdca26\"],[1.0,\"#f0f921\"]]}],\"mesh3d\":[{\"type\":\"mesh3d\",\"colorbar\":{\"outlinewidth\":0,\"ticks\":\"\"}}],\"scatter\":[{\"fillpattern\":{\"fillmode\":\"overlay\",\"size\":10,\"solidity\":0.2},\"type\":\"scatter\"}],\"parcoords\":[{\"type\":\"parcoords\",\"line\":{\"colorbar\":{\"outlinewidth\":0,\"ticks\":\"\"}}}],\"scatterpolargl\":[{\"type\":\"scatterpolargl\",\"marker\":{\"colorbar\":{\"outlinewidth\":0,\"ticks\":\"\"}}}],\"bar\":[{\"error_x\":{\"color\":\"#2a3f5f\"},\"error_y\":{\"color\":\"#2a3f5f\"},\"marker\":{\"line\":{\"color\":\"#E5ECF6\",\"width\":0.5},\"pattern\":{\"fillmode\":\"overlay\",\"size\":10,\"solidity\":0.2}},\"type\":\"bar\"}],\"scattergeo\":[{\"type\":\"scattergeo\",\"marker\":{\"colorbar\":{\"outlinewidth\":0,\"ticks\":\"\"}}}],\"scatterpolar\":[{\"type\":\"scatterpolar\",\"marker\":{\"colorbar\":{\"outlinewidth\":0,\"ticks\":\"\"}}}],\"histogram\":[{\"marker\":{\"pattern\":{\"fillmode\":\"overlay\",\"size\":10,\"solidity\":0.2}},\"type\":\"histogram\"}],\"scattergl\":[{\"type\":\"scattergl\",\"marker\":{\"colorbar\":{\"outlinewidth\":0,\"ticks\":\"\"}}}],\"scatter3d\":[{\"type\":\"scatter3d\",\"line\":{\"colorbar\":{\"outlinewidth\":0,\"ticks\":\"\"}},\"marker\":{\"colorbar\":{\"outlinewidth\":0,\"ticks\":\"\"}}}],\"scattermapbox\":[{\"type\":\"scattermapbox\",\"marker\":{\"colorbar\":{\"outlinewidth\":0,\"ticks\":\"\"}}}],\"scatterternary\":[{\"type\":\"scatterternary\",\"marker\":{\"colorbar\":{\"outlinewidth\":0,\"ticks\":\"\"}}}],\"scattercarpet\":[{\"type\":\"scattercarpet\",\"marker\":{\"colorbar\":{\"outlinewidth\":0,\"ticks\":\"\"}}}],\"carpet\":[{\"aaxis\":{\"endlinecolor\":\"#2a3f5f\",\"gridcolor\":\"white\",\"linecolor\":\"white\",\"minorgridcolor\":\"white\",\"startlinecolor\":\"#2a3f5f\"},\"baxis\":{\"endlinecolor\":\"#2a3f5f\",\"gridcolor\":\"white\",\"linecolor\":\"white\",\"minorgridcolor\":\"white\",\"startlinecolor\":\"#2a3f5f\"},\"type\":\"carpet\"}],\"table\":[{\"cells\":{\"fill\":{\"color\":\"#EBF0F8\"},\"line\":{\"color\":\"white\"}},\"header\":{\"fill\":{\"color\":\"#C8D4E3\"},\"line\":{\"color\":\"white\"}},\"type\":\"table\"}],\"barpolar\":[{\"marker\":{\"line\":{\"color\":\"#E5ECF6\",\"width\":0.5},\"pattern\":{\"fillmode\":\"overlay\",\"size\":10,\"solidity\":0.2}},\"type\":\"barpolar\"}],\"pie\":[{\"automargin\":true,\"type\":\"pie\"}]},\"layout\":{\"autotypenumbers\":\"strict\",\"colorway\":[\"#636efa\",\"#EF553B\",\"#00cc96\",\"#ab63fa\",\"#FFA15A\",\"#19d3f3\",\"#FF6692\",\"#B6E880\",\"#FF97FF\",\"#FECB52\"],\"font\":{\"color\":\"#2a3f5f\"},\"hovermode\":\"closest\",\"hoverlabel\":{\"align\":\"left\"},\"paper_bgcolor\":\"white\",\"plot_bgcolor\":\"#E5ECF6\",\"polar\":{\"bgcolor\":\"#E5ECF6\",\"angularaxis\":{\"gridcolor\":\"white\",\"linecolor\":\"white\",\"ticks\":\"\"},\"radialaxis\":{\"gridcolor\":\"white\",\"linecolor\":\"white\",\"ticks\":\"\"}},\"ternary\":{\"bgcolor\":\"#E5ECF6\",\"aaxis\":{\"gridcolor\":\"white\",\"linecolor\":\"white\",\"ticks\":\"\"},\"baxis\":{\"gridcolor\":\"white\",\"linecolor\":\"white\",\"ticks\":\"\"},\"caxis\":{\"gridcolor\":\"white\",\"linecolor\":\"white\",\"ticks\":\"\"}},\"coloraxis\":{\"colorbar\":{\"outlinewidth\":0,\"ticks\":\"\"}},\"colorscale\":{\"sequential\":[[0.0,\"#0d0887\"],[0.1111111111111111,\"#46039f\"],[0.2222222222222222,\"#7201a8\"],[0.3333333333333333,\"#9c179e\"],[0.4444444444444444,\"#bd3786\"],[0.5555555555555556,\"#d8576b\"],[0.6666666666666666,\"#ed7953\"],[0.7777777777777778,\"#fb9f3a\"],[0.8888888888888888,\"#fdca26\"],[1.0,\"#f0f921\"]],\"sequentialminus\":[[0.0,\"#0d0887\"],[0.1111111111111111,\"#46039f\"],[0.2222222222222222,\"#7201a8\"],[0.3333333333333333,\"#9c179e\"],[0.4444444444444444,\"#bd3786\"],[0.5555555555555556,\"#d8576b\"],[0.6666666666666666,\"#ed7953\"],[0.7777777777777778,\"#fb9f3a\"],[0.8888888888888888,\"#fdca26\"],[1.0,\"#f0f921\"]],\"diverging\":[[0,\"#8e0152\"],[0.1,\"#c51b7d\"],[0.2,\"#de77ae\"],[0.3,\"#f1b6da\"],[0.4,\"#fde0ef\"],[0.5,\"#f7f7f7\"],[0.6,\"#e6f5d0\"],[0.7,\"#b8e186\"],[0.8,\"#7fbc41\"],[0.9,\"#4d9221\"],[1,\"#276419\"]]},\"xaxis\":{\"gridcolor\":\"white\",\"linecolor\":\"white\",\"ticks\":\"\",\"title\":{\"standoff\":15},\"zerolinecolor\":\"white\",\"automargin\":true,\"zerolinewidth\":2},\"yaxis\":{\"gridcolor\":\"white\",\"linecolor\":\"white\",\"ticks\":\"\",\"title\":{\"standoff\":15},\"zerolinecolor\":\"white\",\"automargin\":true,\"zerolinewidth\":2},\"scene\":{\"xaxis\":{\"backgroundcolor\":\"#E5ECF6\",\"gridcolor\":\"white\",\"linecolor\":\"white\",\"showbackground\":true,\"ticks\":\"\",\"zerolinecolor\":\"white\",\"gridwidth\":2},\"yaxis\":{\"backgroundcolor\":\"#E5ECF6\",\"gridcolor\":\"white\",\"linecolor\":\"white\",\"showbackground\":true,\"ticks\":\"\",\"zerolinecolor\":\"white\",\"gridwidth\":2},\"zaxis\":{\"backgroundcolor\":\"#E5ECF6\",\"gridcolor\":\"white\",\"linecolor\":\"white\",\"showbackground\":true,\"ticks\":\"\",\"zerolinecolor\":\"white\",\"gridwidth\":2}},\"shapedefaults\":{\"line\":{\"color\":\"#2a3f5f\"}},\"annotationdefaults\":{\"arrowcolor\":\"#2a3f5f\",\"arrowhead\":0,\"arrowwidth\":1},\"geo\":{\"bgcolor\":\"white\",\"landcolor\":\"#E5ECF6\",\"subunitcolor\":\"white\",\"showland\":true,\"showlakes\":true,\"lakecolor\":\"white\"},\"title\":{\"x\":0.05},\"mapbox\":{\"style\":\"light\"}}},\"xaxis\":{\"anchor\":\"y\",\"domain\":[0.0,1.0],\"title\":{\"text\":\"Two\"}},\"yaxis\":{\"anchor\":\"x\",\"domain\":[0.0,1.0],\"title\":{\"text\":\"count\"}},\"legend\":{\"tracegroupgap\":0},\"margin\":{\"t\":60},\"barmode\":\"relative\",\"title\":{\"text\":\"Q2 Results\"}},                        {\"responsive\": true}                    ).then(function(){\n",
       "                            \n",
       "var gd = document.getElementById('2a656589-6a17-439c-afa5-59b8ff3fe8cf');\n",
       "var x = new MutationObserver(function (mutations, observer) {{\n",
       "        var display = window.getComputedStyle(gd).display;\n",
       "        if (!display || display === 'none') {{\n",
       "            console.log([gd, 'removed!']);\n",
       "            Plotly.purge(gd);\n",
       "            observer.disconnect();\n",
       "        }}\n",
       "}});\n",
       "\n",
       "// Listen for the removal of the full notebook cells\n",
       "var notebookContainer = gd.closest('#notebook-container');\n",
       "if (notebookContainer) {{\n",
       "    x.observe(notebookContainer, {childList: true});\n",
       "}}\n",
       "\n",
       "// Listen for the clearing of the current output cell\n",
       "var outputEl = gd.closest('.output');\n",
       "if (outputEl) {{\n",
       "    x.observe(outputEl, {childList: true});\n",
       "}}\n",
       "\n",
       "                        })                };                });            </script>        </div>"
      ]
     },
     "metadata": {},
     "output_type": "display_data"
    }
   ],
   "source": [
    "# Visualising the intial data\n",
    "color = sns.color_palette()\n",
    "%matplotlib inline\n",
    "py.init_notebook_mode(connected=True)\n",
    "\n",
    "# Q2 Scores\n",
    "fig = px.histogram(df, x=\"Two\")\n",
    "fig.update_traces(marker_color=\"turquoise\",marker_line_color='rgb(8,48,107)',\n",
    "                  marker_line_width=1.5)\n",
    "fig.update_layout(title_text='Q2 Results')\n",
    "fig.show()"
   ]
  },
  {
   "cell_type": "markdown",
   "id": "b9f9ab32",
   "metadata": {},
   "source": [
    "# Question Two: How much of the teaching offered did you attend?\n",
    "# We can deduce that that the majority of the students have attended around 75% of the course offered"
   ]
  },
  {
   "cell_type": "code",
   "execution_count": 4,
   "id": "eeb9eaa9",
   "metadata": {},
   "outputs": [
    {
     "data": {
      "image/png": "[encoded data removed]",
      "text/plain": [
       "<Figure size 800x800 with 1 Axes>"
      ]
     },
     "metadata": {},
     "output_type": "display_data"
    }
   ],
   "source": [
    "# Most Commonly used words in the evaluations\n",
    "\n",
    "df['student_eval'] = df['Eight'] + df['Nine'] + df['Ten'] + df['Eleven']\n",
    "\n",
    "comment_words = ''\n",
    "stopwords = STOPWORDS.update([\"nothing\", \"Nothing\", \"everything\", \"Everything\"])\n",
    " \n",
    "# iterate through the file\n",
    "for val in df.student_eval:\n",
    "     \n",
    "    # typecaste each val to string\n",
    "    val = str(val)\n",
    " \n",
    "    # split the value\n",
    "    tokens = val.split()\n",
    "     \n",
    "    # Converts each token into lowercase\n",
    "    for i in range(len(tokens)):\n",
    "        tokens[i] = tokens[i].lower()\n",
    "     \n",
    "    comment_words += \" \".join(tokens)+\" \"\n",
    " \n",
    "wordcloud = WordCloud(width = 800, height = 800,\n",
    "                background_color ='black',\n",
    "                stopwords = stopwords,\n",
    "                min_font_size = 10).generate(comment_words)\n",
    " \n",
    "# plot the WordCloud image                      \n",
    "plt.figure(figsize = (8, 8), facecolor = None)\n",
    "plt.imshow(wordcloud)\n",
    "plt.axis(\"off\")\n",
    "plt.tight_layout(pad = 0)"
   ]
  },
  {
   "cell_type": "code",
   "execution_count": 5,
   "id": "791372b9",
   "metadata": {},
   "outputs": [],
   "source": [
    "# Create empty lists to store the sentiment scores\n",
    "polarity_scores = []\n",
    "subjectivity_scores = []\n",
    "\n",
    "# Create empty list for words used\n",
    "words_used = []"
   ]
  },
  {
   "cell_type": "code",
   "execution_count": 6,
   "id": "e3e3cb5b",
   "metadata": {},
   "outputs": [],
   "source": [
    "# Perform sentiment analysis on each row in the DataFrame\n",
    "for index, row in df.iterrows():\n",
    "    # Concatenate the text from multiple columns if needed\n",
    "    text = ' '.join(str(row[column]) for column in df.columns)\n",
    "    # Create a TextBlob object and calculate sentiment scores\n",
    "    blob = TextBlob(text)\n",
    "    polarity = blob.sentiment.polarity\n",
    "    subjectivity = blob.sentiment.subjectivity\n",
    "    wording = blob.words\n",
    "    \n",
    "    \n",
    "    # Append the scores to the respective lists\n",
    "    polarity_scores.append(polarity)\n",
    "    subjectivity_scores.append(subjectivity)\n",
    "    words_used.append(wording)"
   ]
  },
  {
   "cell_type": "code",
   "execution_count": 7,
   "id": "8134d923",
   "metadata": {},
   "outputs": [],
   "source": [
    "# Add sentiment scores as new columns in the DataFrame\n",
    "df['Polarity'] = polarity_scores\n",
    "df['Subjectivity'] = subjectivity_scores\n",
    "df['Words'] = words_used"
   ]
  },
  {
   "cell_type": "code",
   "execution_count": 8,
   "id": "dd225aeb",
   "metadata": {},
   "outputs": [],
   "source": [
    "# Save the updated DataFrame to a new Excel file\n",
    "df.to_excel(r'C:\\Users\\eyasf\\AI Sentiment Analysis\\CS102_1_output.xlsx', index=False)"
   ]
  },
  {
   "cell_type": "code",
   "execution_count": 9,
   "id": "9fb39b68",
   "metadata": {},
   "outputs": [
    {
     "data": {
      "text/html": [
       "<div>\n",
       "<style scoped>\n",
       "    .dataframe tbody tr th:only-of-type {\n",
       "        vertical-align: middle;\n",
       "    }\n",
       "\n",
       "    .dataframe tbody tr th {\n",
       "        vertical-align: top;\n",
       "    }\n",
       "\n",
       "    .dataframe thead th {\n",
       "        text-align: right;\n",
       "    }\n",
       "</style>\n",
       "<table border=\"1\" class=\"dataframe\">\n",
       "  <thead>\n",
       "    <tr style=\"text-align: right;\">\n",
       "      <th></th>\n",
       "      <th>Timestamp</th>\n",
       "      <th>Instructor</th>\n",
       "      <th>Class</th>\n",
       "      <th>One</th>\n",
       "      <th>Two</th>\n",
       "      <th>Three</th>\n",
       "      <th>Four</th>\n",
       "      <th>Five</th>\n",
       "      <th>Six</th>\n",
       "      <th>Seven</th>\n",
       "      <th>Eight</th>\n",
       "      <th>Nine</th>\n",
       "      <th>Ten</th>\n",
       "      <th>Eleven</th>\n",
       "      <th>student_eval</th>\n",
       "      <th>Polarity</th>\n",
       "      <th>Subjectivity</th>\n",
       "      <th>Words</th>\n",
       "    </tr>\n",
       "  </thead>\n",
       "  <tbody>\n",
       "    <tr>\n",
       "      <th>0</th>\n",
       "      <td>Fall 2018</td>\n",
       "      <td>Dorra Louati, Amine B.Hassouna</td>\n",
       "      <td>Sophomore</td>\n",
       "      <td>Around 4 hours/week</td>\n",
       "      <td>About 75%</td>\n",
       "      <td>They were shared but not thoroughly discussed</td>\n",
       "      <td>To some extent\\n</td>\n",
       "      <td>Helpful\\n</td>\n",
       "      <td>Yes, but could be better\\n</td>\n",
       "      <td>Good\\n</td>\n",
       "      <td>All</td>\n",
       "      <td>None</td>\n",
       "      <td>None</td>\n",
       "      <td>Our timing was bad. Always at the end of the e...</td>\n",
       "      <td>AllNoneNoneOur timing was bad. Always at the e...</td>\n",
       "      <td>-0.050000</td>\n",
       "      <td>0.608333</td>\n",
       "      <td>[Fall, 2018, Dorra, Louati, Amine, B.Hassouna,...</td>\n",
       "    </tr>\n",
       "    <tr>\n",
       "      <th>1</th>\n",
       "      <td>Fall 2018</td>\n",
       "      <td>Dorra Louati, Amine B.Hassouna</td>\n",
       "      <td>Sophomore</td>\n",
       "      <td>Around 4 hours/week</td>\n",
       "      <td>About 100%</td>\n",
       "      <td>They were shared and clearly discussed</td>\n",
       "      <td>Yes, definitely\\n</td>\n",
       "      <td>Helpful\\n</td>\n",
       "      <td>Yes, definitely\\n</td>\n",
       "      <td>Good\\n</td>\n",
       "      <td>The project and the course content.</td>\n",
       "      <td>NaN</td>\n",
       "      <td>NaN</td>\n",
       "      <td>More assignments and lecture hours</td>\n",
       "      <td>NaN</td>\n",
       "      <td>0.325000</td>\n",
       "      <td>0.495833</td>\n",
       "      <td>[Fall, 2018, Dorra, Louati, Amine, B.Hassouna,...</td>\n",
       "    </tr>\n",
       "    <tr>\n",
       "      <th>2</th>\n",
       "      <td>Fall 2018</td>\n",
       "      <td>Dorra Louati, Amine B.Hassouna</td>\n",
       "      <td>Sophomore</td>\n",
       "      <td>At most 2 hours/week</td>\n",
       "      <td>At most 50%</td>\n",
       "      <td>They were shared and clearly discussed</td>\n",
       "      <td>To some extent\\n</td>\n",
       "      <td>Helpful\\n</td>\n",
       "      <td>Yes, but could be better\\n</td>\n",
       "      <td>Good\\n</td>\n",
       "      <td>.</td>\n",
       "      <td>.</td>\n",
       "      <td>.</td>\n",
       "      <td>.</td>\n",
       "      <td>....</td>\n",
       "      <td>0.460000</td>\n",
       "      <td>0.496667</td>\n",
       "      <td>[Fall, 2018, Dorra, Louati, Amine, B.Hassouna,...</td>\n",
       "    </tr>\n",
       "    <tr>\n",
       "      <th>3</th>\n",
       "      <td>Fall 2018</td>\n",
       "      <td>Dorra Louati, Amine B.Hassouna</td>\n",
       "      <td>Sophomore</td>\n",
       "      <td>Around 4 hours/week</td>\n",
       "      <td>About 75%</td>\n",
       "      <td>They were shared and clearly discussed</td>\n",
       "      <td>Yes, definitely\\n</td>\n",
       "      <td>Helpful\\n</td>\n",
       "      <td>Yes, but could be better\\n</td>\n",
       "      <td>Good\\n</td>\n",
       "      <td>everything</td>\n",
       "      <td>nothing to add</td>\n",
       "      <td>nothing to add</td>\n",
       "      <td>nothing to add</td>\n",
       "      <td>everything nothing to add nothing to add nothi...</td>\n",
       "      <td>0.325000</td>\n",
       "      <td>0.495833</td>\n",
       "      <td>[Fall, 2018, Dorra, Louati, Amine, B.Hassouna,...</td>\n",
       "    </tr>\n",
       "    <tr>\n",
       "      <th>4</th>\n",
       "      <td>Fall 2018</td>\n",
       "      <td>Dorra Louati, Amine B.Hassouna</td>\n",
       "      <td>Sophomore</td>\n",
       "      <td>Around 4 hours/week</td>\n",
       "      <td>About 75%</td>\n",
       "      <td>They were shared and clearly discussed</td>\n",
       "      <td>Yes, definitely\\n</td>\n",
       "      <td>Helpful\\n</td>\n",
       "      <td>Yes, but could be better\\n</td>\n",
       "      <td>Good\\n</td>\n",
       "      <td>Doing exercises</td>\n",
       "      <td>.</td>\n",
       "      <td>Having the corrections of the exercises</td>\n",
       "      <td>Nothing</td>\n",
       "      <td>Doing exercises .Having the corrections of the...</td>\n",
       "      <td>0.325000</td>\n",
       "      <td>0.495833</td>\n",
       "      <td>[Fall, 2018, Dorra, Louati, Amine, B.Hassouna,...</td>\n",
       "    </tr>\n",
       "    <tr>\n",
       "      <th>...</th>\n",
       "      <td>...</td>\n",
       "      <td>...</td>\n",
       "      <td>...</td>\n",
       "      <td>...</td>\n",
       "      <td>...</td>\n",
       "      <td>...</td>\n",
       "      <td>...</td>\n",
       "      <td>...</td>\n",
       "      <td>...</td>\n",
       "      <td>...</td>\n",
       "      <td>...</td>\n",
       "      <td>...</td>\n",
       "      <td>...</td>\n",
       "      <td>...</td>\n",
       "      <td>...</td>\n",
       "      <td>...</td>\n",
       "      <td>...</td>\n",
       "      <td>...</td>\n",
       "    </tr>\n",
       "    <tr>\n",
       "      <th>93</th>\n",
       "      <td>Fall 2019</td>\n",
       "      <td>Dorra Louati, Amine B.Hassouna</td>\n",
       "      <td>Sophomore</td>\n",
       "      <td>At most 2 hours/week</td>\n",
       "      <td>About 100%</td>\n",
       "      <td>They were shared but not thoroughly discussed</td>\n",
       "      <td>To some extent\\n</td>\n",
       "      <td>Barely helpful\\n</td>\n",
       "      <td>Barely helpful\\n</td>\n",
       "      <td>No, barely\\n</td>\n",
       "      <td>Fair\\n</td>\n",
       "      <td>nothing</td>\n",
       "      <td>way of giving information</td>\n",
       "      <td>way of giving information</td>\n",
       "      <td>Fair\\nnothing way of giving informationway of ...</td>\n",
       "      <td>0.190000</td>\n",
       "      <td>0.500000</td>\n",
       "      <td>[Fall, 2019, Dorra, Louati, Amine, B.Hassouna,...</td>\n",
       "    </tr>\n",
       "    <tr>\n",
       "      <th>94</th>\n",
       "      <td>Fall 2019</td>\n",
       "      <td>Dorra Louati, Amine B.Hassouna</td>\n",
       "      <td>Sophomore</td>\n",
       "      <td>At most 2 hours/week</td>\n",
       "      <td>About 75%</td>\n",
       "      <td>They were shared but not thoroughly discussed</td>\n",
       "      <td>Yes, definitely\\n</td>\n",
       "      <td>Helpful\\n</td>\n",
       "      <td>Helpful\\n</td>\n",
       "      <td>Yes, but could be better\\n</td>\n",
       "      <td>Good\\n</td>\n",
       "      <td>the lab professors weal and marwen were good</td>\n",
       "      <td>nothing</td>\n",
       "      <td>having more than one lab exam would be a good ...</td>\n",
       "      <td>Good\\nthe lab professors weal and marwen were ...</td>\n",
       "      <td>0.563636</td>\n",
       "      <td>0.554545</td>\n",
       "      <td>[Fall, 2019, Dorra, Louati, Amine, B.Hassouna,...</td>\n",
       "    </tr>\n",
       "    <tr>\n",
       "      <th>95</th>\n",
       "      <td>Fall 2019</td>\n",
       "      <td>Dorra Louati, Amine B.Hassouna</td>\n",
       "      <td>Sophomore</td>\n",
       "      <td>At least 5 hours/week</td>\n",
       "      <td>About 75%</td>\n",
       "      <td>They were shared but not thoroughly discussed</td>\n",
       "      <td>Yes, definitely\\n</td>\n",
       "      <td>Helpful\\n</td>\n",
       "      <td>Helpful\\n</td>\n",
       "      <td>Yes, but could be better\\n</td>\n",
       "      <td>Good\\n</td>\n",
       "      <td>Everything</td>\n",
       "      <td>The slides on moodle are not clear</td>\n",
       "      <td>We needed more exercise</td>\n",
       "      <td>Good\\nEverything The slides on moodle are not ...</td>\n",
       "      <td>0.318750</td>\n",
       "      <td>0.497917</td>\n",
       "      <td>[Fall, 2019, Dorra, Louati, Amine, B.Hassouna,...</td>\n",
       "    </tr>\n",
       "    <tr>\n",
       "      <th>96</th>\n",
       "      <td>Fall 2019</td>\n",
       "      <td>Dorra Louati, Amine B.Hassouna</td>\n",
       "      <td>Sophomore</td>\n",
       "      <td>At least 5 hours/week</td>\n",
       "      <td>About 75%</td>\n",
       "      <td>They were shared but not thoroughly discussed</td>\n",
       "      <td>Yes, definitely\\n</td>\n",
       "      <td>Helpful\\n</td>\n",
       "      <td>Barely helpful\\n</td>\n",
       "      <td>Yes, but could be better\\n</td>\n",
       "      <td>Good\\n</td>\n",
       "      <td>the lab teacher was very helpful</td>\n",
       "      <td>nothing</td>\n",
       "      <td>nothing</td>\n",
       "      <td>Good\\nthe lab teacher was very helpfulnothingn...</td>\n",
       "      <td>0.256250</td>\n",
       "      <td>0.412500</td>\n",
       "      <td>[Fall, 2019, Dorra, Louati, Amine, B.Hassouna,...</td>\n",
       "    </tr>\n",
       "    <tr>\n",
       "      <th>97</th>\n",
       "      <td>Fall 2019</td>\n",
       "      <td>Dorra Louati, Amine B.Hassouna</td>\n",
       "      <td>Sophomore</td>\n",
       "      <td>Around 4 hours/week</td>\n",
       "      <td>About 100%</td>\n",
       "      <td>They were shared and clearly discussed</td>\n",
       "      <td>Not aware of course outcomes &amp; objectives\\n</td>\n",
       "      <td>Very helpful\\n</td>\n",
       "      <td>Very helpful</td>\n",
       "      <td>Yes, definitely\\n</td>\n",
       "      <td>Good\\n</td>\n",
       "      <td>several activities</td>\n",
       "      <td>we don't use slides in class and I can't relat...</td>\n",
       "      <td>course more clear and more discussed</td>\n",
       "      <td>Good\\nseveral activitieswe don't use slides in...</td>\n",
       "      <td>0.283929</td>\n",
       "      <td>0.371429</td>\n",
       "      <td>[Fall, 2019, Dorra, Louati, Amine, B.Hassouna,...</td>\n",
       "    </tr>\n",
       "  </tbody>\n",
       "</table>\n",
       "<p>98 rows × 18 columns</p>\n",
       "</div>"
      ],
      "text/plain": [
       "    Timestamp                          Instructor      Class  \\\n",
       "0   Fall 2018  Dorra Louati, Amine B.Hassouna      Sophomore   \n",
       "1   Fall 2018  Dorra Louati, Amine B.Hassouna      Sophomore   \n",
       "2   Fall 2018  Dorra Louati, Amine B.Hassouna      Sophomore   \n",
       "3   Fall 2018  Dorra Louati, Amine B.Hassouna      Sophomore   \n",
       "4   Fall 2018  Dorra Louati, Amine B.Hassouna      Sophomore   \n",
       "..        ...                                 ...        ...   \n",
       "93  Fall 2019      Dorra Louati, Amine B.Hassouna  Sophomore   \n",
       "94  Fall 2019      Dorra Louati, Amine B.Hassouna  Sophomore   \n",
       "95  Fall 2019      Dorra Louati, Amine B.Hassouna  Sophomore   \n",
       "96  Fall 2019      Dorra Louati, Amine B.Hassouna  Sophomore   \n",
       "97  Fall 2019      Dorra Louati, Amine B.Hassouna  Sophomore   \n",
       "\n",
       "                      One          Two  \\\n",
       "0     Around 4 hours/week    About 75%   \n",
       "1     Around 4 hours/week   About 100%   \n",
       "2    At most 2 hours/week  At most 50%   \n",
       "3     Around 4 hours/week    About 75%   \n",
       "4     Around 4 hours/week    About 75%   \n",
       "..                    ...          ...   \n",
       "93   At most 2 hours/week   About 100%   \n",
       "94   At most 2 hours/week    About 75%   \n",
       "95  At least 5 hours/week    About 75%   \n",
       "96  At least 5 hours/week    About 75%   \n",
       "97    Around 4 hours/week   About 100%   \n",
       "\n",
       "                                            Three  \\\n",
       "0   They were shared but not thoroughly discussed   \n",
       "1          They were shared and clearly discussed   \n",
       "2          They were shared and clearly discussed   \n",
       "3          They were shared and clearly discussed   \n",
       "4          They were shared and clearly discussed   \n",
       "..                                            ...   \n",
       "93  They were shared but not thoroughly discussed   \n",
       "94  They were shared but not thoroughly discussed   \n",
       "95  They were shared but not thoroughly discussed   \n",
       "96  They were shared but not thoroughly discussed   \n",
       "97         They were shared and clearly discussed   \n",
       "\n",
       "                                           Four              Five  \\\n",
       "0                              To some extent\\n         Helpful\\n   \n",
       "1                             Yes, definitely\\n         Helpful\\n   \n",
       "2                              To some extent\\n         Helpful\\n   \n",
       "3                             Yes, definitely\\n         Helpful\\n   \n",
       "4                             Yes, definitely\\n         Helpful\\n   \n",
       "..                                          ...               ...   \n",
       "93                             To some extent\\n  Barely helpful\\n   \n",
       "94                            Yes, definitely\\n         Helpful\\n   \n",
       "95                            Yes, definitely\\n         Helpful\\n   \n",
       "96                            Yes, definitely\\n         Helpful\\n   \n",
       "97  Not aware of course outcomes & objectives\\n    Very helpful\\n   \n",
       "\n",
       "                           Six                       Seven  \\\n",
       "0   Yes, but could be better\\n                      Good\\n   \n",
       "1            Yes, definitely\\n                      Good\\n   \n",
       "2   Yes, but could be better\\n                      Good\\n   \n",
       "3   Yes, but could be better\\n                      Good\\n   \n",
       "4   Yes, but could be better\\n                      Good\\n   \n",
       "..                         ...                         ...   \n",
       "93            Barely helpful\\n                No, barely\\n   \n",
       "94                   Helpful\\n  Yes, but could be better\\n   \n",
       "95                   Helpful\\n  Yes, but could be better\\n   \n",
       "96            Barely helpful\\n  Yes, but could be better\\n   \n",
       "97                Very helpful           Yes, definitely\\n   \n",
       "\n",
       "                                  Eight  \\\n",
       "0                                   All   \n",
       "1   The project and the course content.   \n",
       "2                                     .   \n",
       "3                           everything    \n",
       "4                      Doing exercises    \n",
       "..                                  ...   \n",
       "93                               Fair\\n   \n",
       "94                               Good\\n   \n",
       "95                               Good\\n   \n",
       "96                               Good\\n   \n",
       "97                               Good\\n   \n",
       "\n",
       "                                             Nine  \\\n",
       "0                                            None   \n",
       "1                                             NaN   \n",
       "2                                               .   \n",
       "3                                 nothing to add    \n",
       "4                                               .   \n",
       "..                                            ...   \n",
       "93                                       nothing    \n",
       "94  the lab professors weal and marwen were good    \n",
       "95                                    Everything    \n",
       "96               the lab teacher was very helpful   \n",
       "97                             several activities   \n",
       "\n",
       "                                                  Ten  \\\n",
       "0                                                None   \n",
       "1                                                 NaN   \n",
       "2                                                   .   \n",
       "3                                     nothing to add    \n",
       "4            Having the corrections of the exercises    \n",
       "..                                                ...   \n",
       "93                          way of giving information   \n",
       "94                                           nothing    \n",
       "95                 The slides on moodle are not clear   \n",
       "96                                            nothing   \n",
       "97  we don't use slides in class and I can't relat...   \n",
       "\n",
       "                                               Eleven  \\\n",
       "0   Our timing was bad. Always at the end of the e...   \n",
       "1                  More assignments and lecture hours   \n",
       "2                                                   .   \n",
       "3                                     nothing to add    \n",
       "4                                            Nothing    \n",
       "..                                                ...   \n",
       "93                          way of giving information   \n",
       "94  having more than one lab exam would be a good ...   \n",
       "95                           We needed more exercise    \n",
       "96                                            nothing   \n",
       "97              course more clear and more discussed    \n",
       "\n",
       "                                         student_eval  Polarity  Subjectivity  \\\n",
       "0   AllNoneNoneOur timing was bad. Always at the e... -0.050000      0.608333   \n",
       "1                                                 NaN  0.325000      0.495833   \n",
       "2                                                ....  0.460000      0.496667   \n",
       "3   everything nothing to add nothing to add nothi...  0.325000      0.495833   \n",
       "4   Doing exercises .Having the corrections of the...  0.325000      0.495833   \n",
       "..                                                ...       ...           ...   \n",
       "93  Fair\\nnothing way of giving informationway of ...  0.190000      0.500000   \n",
       "94  Good\\nthe lab professors weal and marwen were ...  0.563636      0.554545   \n",
       "95  Good\\nEverything The slides on moodle are not ...  0.318750      0.497917   \n",
       "96  Good\\nthe lab teacher was very helpfulnothingn...  0.256250      0.412500   \n",
       "97  Good\\nseveral activitieswe don't use slides in...  0.283929      0.371429   \n",
       "\n",
       "                                                Words  \n",
       "0   [Fall, 2018, Dorra, Louati, Amine, B.Hassouna,...  \n",
       "1   [Fall, 2018, Dorra, Louati, Amine, B.Hassouna,...  \n",
       "2   [Fall, 2018, Dorra, Louati, Amine, B.Hassouna,...  \n",
       "3   [Fall, 2018, Dorra, Louati, Amine, B.Hassouna,...  \n",
       "4   [Fall, 2018, Dorra, Louati, Amine, B.Hassouna,...  \n",
       "..                                                ...  \n",
       "93  [Fall, 2019, Dorra, Louati, Amine, B.Hassouna,...  \n",
       "94  [Fall, 2019, Dorra, Louati, Amine, B.Hassouna,...  \n",
       "95  [Fall, 2019, Dorra, Louati, Amine, B.Hassouna,...  \n",
       "96  [Fall, 2019, Dorra, Louati, Amine, B.Hassouna,...  \n",
       "97  [Fall, 2019, Dorra, Louati, Amine, B.Hassouna,...  \n",
       "\n",
       "[98 rows x 18 columns]"
      ]
     },
     "execution_count": 9,
     "metadata": {},
     "output_type": "execute_result"
    }
   ],
   "source": [
    "df"
   ]
  },
  {
   "cell_type": "code",
   "execution_count": 10,
   "id": "cebbe74a",
   "metadata": {},
   "outputs": [
    {
     "data": {
      "text/html": [
       "<div>\n",
       "<style scoped>\n",
       "    .dataframe tbody tr th:only-of-type {\n",
       "        vertical-align: middle;\n",
       "    }\n",
       "\n",
       "    .dataframe tbody tr th {\n",
       "        vertical-align: top;\n",
       "    }\n",
       "\n",
       "    .dataframe thead th {\n",
       "        text-align: right;\n",
       "    }\n",
       "</style>\n",
       "<table border=\"1\" class=\"dataframe\">\n",
       "  <thead>\n",
       "    <tr style=\"text-align: right;\">\n",
       "      <th></th>\n",
       "      <th>Polarity</th>\n",
       "    </tr>\n",
       "  </thead>\n",
       "  <tbody>\n",
       "    <tr>\n",
       "      <th>count</th>\n",
       "      <td>98.000000</td>\n",
       "    </tr>\n",
       "    <tr>\n",
       "      <th>mean</th>\n",
       "      <td>0.316244</td>\n",
       "    </tr>\n",
       "    <tr>\n",
       "      <th>std</th>\n",
       "      <td>0.167461</td>\n",
       "    </tr>\n",
       "    <tr>\n",
       "      <th>min</th>\n",
       "      <td>-0.100000</td>\n",
       "    </tr>\n",
       "    <tr>\n",
       "      <th>25%</th>\n",
       "      <td>0.205432</td>\n",
       "    </tr>\n",
       "    <tr>\n",
       "      <th>50%</th>\n",
       "      <td>0.325000</td>\n",
       "    </tr>\n",
       "    <tr>\n",
       "      <th>75%</th>\n",
       "      <td>0.425000</td>\n",
       "    </tr>\n",
       "    <tr>\n",
       "      <th>max</th>\n",
       "      <td>0.700000</td>\n",
       "    </tr>\n",
       "  </tbody>\n",
       "</table>\n",
       "</div>"
      ],
      "text/plain": [
       "        Polarity\n",
       "count  98.000000\n",
       "mean    0.316244\n",
       "std     0.167461\n",
       "min    -0.100000\n",
       "25%     0.205432\n",
       "50%     0.325000\n",
       "75%     0.425000\n",
       "max     0.700000"
      ]
     },
     "execution_count": 10,
     "metadata": {},
     "output_type": "execute_result"
    }
   ],
   "source": [
    "df[['Polarity']].describe()"
   ]
  },
  {
   "cell_type": "markdown",
   "id": "c32f546e",
   "metadata": {},
   "source": [
    "# What can we deduce?\n",
    "#### The lowest value is -0.1, which indicates that the polarity of the most negative response is somewhat negative. (Range of sentiment polarity score is from -1 to +1)\n",
    "#### The highest value is 0.7, which indicates that the polarity of the most positive response is somewhat positive.\n",
    "#### The mean value is 0.3~ which means that while responses are positive, they are not highly positive either."
   ]
  },
  {
   "cell_type": "code",
   "execution_count": 11,
   "id": "1964b6c8",
   "metadata": {},
   "outputs": [
    {
     "data": {
      "text/plain": [
       "<Axes: title={'center': 'Sentiment Score'}, xlabel='Period', ylabel='Mean Sentiment Score'>"
      ]
     },
     "execution_count": 11,
     "metadata": {},
     "output_type": "execute_result"
    },
    {
     "data": {
      "image/png": "[encoded data removed]",
      "text/plain": [
       "<Figure size 600x500 with 1 Axes>"
      ]
     },
     "metadata": {},
     "output_type": "display_data"
    }
   ],
   "source": [
    "#generate mean of sentiment_score by period\n",
    "dfg = df.groupby(['Timestamp'])['Polarity'].mean()\n",
    "#create a bar plot\n",
    "dfg.plot(kind='bar', title='Sentiment Score', ylabel='Mean Sentiment Score',\n",
    "         xlabel='Period', figsize=(6, 5))"
   ]
  },
  {
   "cell_type": "markdown",
   "id": "73261ebf",
   "metadata": {},
   "source": [
    "# What can we deduce?\n",
    "\n",
    "#### The responses for both Fall 2018 and Fall 2019 are close to being the same. No improvement between Fall 2018 and Fall 2019."
   ]
  },
  {
   "cell_type": "code",
   "execution_count": 12,
   "id": "713e528f",
   "metadata": {},
   "outputs": [
    {
     "data": {
      "text/html": [
       "<div>\n",
       "<style scoped>\n",
       "    .dataframe tbody tr th:only-of-type {\n",
       "        vertical-align: middle;\n",
       "    }\n",
       "\n",
       "    .dataframe tbody tr th {\n",
       "        vertical-align: top;\n",
       "    }\n",
       "\n",
       "    .dataframe thead th {\n",
       "        text-align: right;\n",
       "    }\n",
       "</style>\n",
       "<table border=\"1\" class=\"dataframe\">\n",
       "  <thead>\n",
       "    <tr style=\"text-align: right;\">\n",
       "      <th></th>\n",
       "      <th>Subjectivity</th>\n",
       "    </tr>\n",
       "  </thead>\n",
       "  <tbody>\n",
       "    <tr>\n",
       "      <th>count</th>\n",
       "      <td>98.000000</td>\n",
       "    </tr>\n",
       "    <tr>\n",
       "      <th>mean</th>\n",
       "      <td>0.517374</td>\n",
       "    </tr>\n",
       "    <tr>\n",
       "      <th>std</th>\n",
       "      <td>0.074754</td>\n",
       "    </tr>\n",
       "    <tr>\n",
       "      <th>min</th>\n",
       "      <td>0.248958</td>\n",
       "    </tr>\n",
       "    <tr>\n",
       "      <th>25%</th>\n",
       "      <td>0.494792</td>\n",
       "    </tr>\n",
       "    <tr>\n",
       "      <th>50%</th>\n",
       "      <td>0.510476</td>\n",
       "    </tr>\n",
       "    <tr>\n",
       "      <th>75%</th>\n",
       "      <td>0.551759</td>\n",
       "    </tr>\n",
       "    <tr>\n",
       "      <th>max</th>\n",
       "      <td>0.750000</td>\n",
       "    </tr>\n",
       "  </tbody>\n",
       "</table>\n",
       "</div>"
      ],
      "text/plain": [
       "       Subjectivity\n",
       "count     98.000000\n",
       "mean       0.517374\n",
       "std        0.074754\n",
       "min        0.248958\n",
       "25%        0.494792\n",
       "50%        0.510476\n",
       "75%        0.551759\n",
       "max        0.750000"
      ]
     },
     "execution_count": 12,
     "metadata": {},
     "output_type": "execute_result"
    }
   ],
   "source": [
    "df[['Subjectivity']].describe()"
   ]
  },
  {
   "cell_type": "markdown",
   "id": "c559be1b",
   "metadata": {},
   "source": [
    "# What can we deduce?\n",
    "\n",
    "#### Subjectivity score shows the amount of personal opinion, If a sentence has high subjectivity (close to 1), it means that the text contains more personal opinion than factual information.\n",
    "\n",
    "#### The mean value is ~0.5 which means that the responses are split in half between being subjective and objective. (Subjectivity score is from 0 to 1)"
   ]
  }
 ],
 "metadata": {
  "kernelspec": {
   "display_name": "Python 3 (ipykernel)",
   "language": "python",
   "name": "python3"
  },
  "language_info": {
   "codemirror_mode": {
    "name": "ipython",
    "version": 3
   },
   "file_extension": ".py",
   "mimetype": "text/x-python",
   "name": "python",
   "nbconvert_exporter": "python",
   "pygments_lexer": "ipython3",
   "version": "3.10.9"
  }
 },
 "nbformat": 4,
 "nbformat_minor": 5
}
